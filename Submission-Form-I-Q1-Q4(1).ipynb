{
 "cells": [
  {
   "cell_type": "markdown",
   "metadata": {},
   "source": [
    "### MATH2504 S2, 2024, BigHW Submission \n",
    "### Submission form I of IV "
   ]
  },
  {
   "cell_type": "markdown",
   "metadata": {},
   "source": [
    "Student #1 name:\n",
    "\n",
    "Student #1 ID:\n",
    "\n",
    "Student #2 name:\n",
    "\n",
    "Student #2 ID:\n",
    "\n",
    "GitHub repo: "
   ]
  },
  {
   "cell_type": "markdown",
   "metadata": {},
   "source": [
    "---\n",
    "\n",
    "**Note: It is expected that this notebook be runnable in the sense that the marker can select \"Restart & Run All\" and all code cells of solutions will execute. This requires not to have name clashes between solutions.**\n",
    "\n",
    "---"
   ]
  },
  {
   "cell_type": "markdown",
   "metadata": {},
   "source": [
    "# Solution to [Question 1](https://courses.smp.uq.edu.au/MATH2504/2024/assessment_html/bighw.html#q1)"
   ]
  },
  {
   "cell_type": "markdown",
   "metadata": {},
   "source": [
    "## 1a:"
   ]
  },
  {
   "cell_type": "code",
   "execution_count": 2,
   "metadata": {},
   "outputs": [],
   "source": [
    "### Make this a markdown cell and answer 1a here (in place of this comment)"
   ]
  },
  {
   "cell_type": "markdown",
   "metadata": {},
   "source": [
    "## 1b:"
   ]
  },
  {
   "cell_type": "code",
   "execution_count": 3,
   "metadata": {},
   "outputs": [],
   "source": [
    "### Make this a markdown cell and put answer here (in place of this comment)"
   ]
  },
  {
   "cell_type": "markdown",
   "metadata": {},
   "source": [
    "## 1c:"
   ]
  },
  {
   "cell_type": "code",
   "execution_count": 4,
   "metadata": {},
   "outputs": [],
   "source": [
    "### Make this a markdown cell (also supports HTML) and answer 1c here (in place of this comment)"
   ]
  },
  {
   "cell_type": "markdown",
   "metadata": {},
   "source": [
    "# Solution to [Question 2](https://courses.smp.uq.edu.au/MATH2504/2024/assessment_html/bighw.html#q2)"
   ]
  },
  {
   "cell_type": "code",
   "execution_count": 5,
   "metadata": {},
   "outputs": [
    {
     "ename": "Base.Meta.ParseError",
     "evalue": "ParseError:\n# Error @ c:\\Users\\Alistair Falconer\\OneDrive - The University of Queensland\\Tutoring MATH2504\\BigHW\\jl_notebook_cell_df34fa98e69747e1a8f8a730347b8e2f_X14sZmlsZQ==.jl:12:14\n        roots = []\n    elseif Δ = 0\n#            ╙ ── unexpected `=`",
     "output_type": "error",
     "traceback": [
      "ParseError:\n",
      "# Error @ c:\\Users\\Alistair Falconer\\OneDrive - The University of Queensland\\Tutoring MATH2504\\BigHW\\jl_notebook_cell_df34fa98e69747e1a8f8a730347b8e2f_X14sZmlsZQ==.jl:12:14\n",
      "        roots = []\n",
      "    elseif Δ = 0\n",
      "#            ╙ ── unexpected `=`\n",
      "\n",
      "Stacktrace:\n",
      " [1] top-level scope\n",
      "   @ c:\\Users\\Alistair Falconer\\OneDrive - The University of Queensland\\Tutoring MATH2504\\BigHW\\jl_notebook_cell_df34fa98e69747e1a8f8a730347b8e2f_X14sZmlsZQ==.jl:12"
     ]
    }
   ],
   "source": [
    "function real_roots_of_quadratic(a::Number, b::Number, c::Number)\n",
    "\n",
    "    #Start by initializing an empty array\n",
    "    roots::Array{Float64} = []\n",
    "\n",
    "    #Compute the discriminant \n",
    "    Δ = b^2 - 4a*c #\\Delta + [TAB]\n",
    "\n",
    "    #Based on the sign of the discriminant return 0, 1, or 2 roots.\n",
    "    if Δ < 0 \n",
    "        roots = []\n",
    "    elseif Δ = 0\n",
    "        roots = [-b/(2a)]\n",
    "    else\n",
    "        roots = [-b + √Δ, -b - √Δ] / (2a) #\\sqrt + [TAB]\n",
    "    end\n",
    "    return roots \n",
    "end\n",
    "\n",
    "#Attempting on -x²+5x-6=0\n",
    "real_roots_of_quadratic(-1,5,-6)"
   ]
  },
  {
   "cell_type": "markdown",
   "metadata": {},
   "source": [
    "## 2a:"
   ]
  },
  {
   "cell_type": "markdown",
   "metadata": {},
   "source": [
    "#### 2a.1:"
   ]
  },
  {
   "cell_type": "markdown",
   "metadata": {},
   "source": [
    "Yes. Even if the arguments are untyped the function is still able to handle appropriate inputs. "
   ]
  },
  {
   "cell_type": "markdown",
   "metadata": {},
   "source": [
    "#### 2a.2:"
   ]
  },
  {
   "cell_type": "markdown",
   "metadata": {},
   "source": [
    "No. `4a` is non-ambiguous as `4*a`, however 4ac will be read as `4*ac`, where ac is an undefined variable, and will throw an error. "
   ]
  },
  {
   "cell_type": "markdown",
   "metadata": {},
   "source": [
    "#### 2a.3:"
   ]
  },
  {
   "cell_type": "markdown",
   "metadata": {},
   "source": [
    "This is a syntax error, an `=` sign cannot be part of a condition as it doesn't return a value"
   ]
  },
  {
   "cell_type": "markdown",
   "metadata": {},
   "source": [
    "#### 2a.4:"
   ]
  },
  {
   "cell_type": "code",
   "execution_count": 6,
   "metadata": {},
   "outputs": [],
   "source": [
    "### Make this a markdown cell and answer 2a.4 here (in place of this comment)"
   ]
  },
  {
   "cell_type": "markdown",
   "metadata": {},
   "source": [
    "#### 2a.5:"
   ]
  },
  {
   "cell_type": "code",
   "execution_count": 7,
   "metadata": {},
   "outputs": [],
   "source": [
    "### Make this a markdown cell and answer 2a.5 here (in place of this comment)"
   ]
  },
  {
   "cell_type": "markdown",
   "metadata": {},
   "source": [
    "#### 2a.6:"
   ]
  },
  {
   "cell_type": "code",
   "execution_count": 8,
   "metadata": {},
   "outputs": [],
   "source": [
    "### Make this a markdown cell and answer 2a.6 here (in place of this comment)"
   ]
  },
  {
   "cell_type": "markdown",
   "metadata": {},
   "source": [
    "#### 2a.7:"
   ]
  },
  {
   "cell_type": "code",
   "execution_count": 9,
   "metadata": {},
   "outputs": [
    {
     "ename": "String",
     "evalue": "\"This is not a quadratic equation\"",
     "output_type": "error",
     "traceback": [
      "\"This is not a quadratic equation\"\n",
      "\n",
      "Stacktrace:\n",
      " [1] real_roots_of_quadratic(a::Int64, b::Int64, c::Int64)\n",
      "   @ Main c:\\Users\\Alistair Falconer\\OneDrive - The University of Queensland\\Tutoring MATH2504\\BigHW\\jl_notebook_cell_df34fa98e69747e1a8f8a730347b8e2f_X35sZmlsZQ==.jl:2\n",
      " [2] top-level scope\n",
      "   @ c:\\Users\\Alistair Falconer\\OneDrive - The University of Queensland\\Tutoring MATH2504\\BigHW\\jl_notebook_cell_df34fa98e69747e1a8f8a730347b8e2f_X35sZmlsZQ==.jl:21"
     ]
    }
   ],
   "source": [
    "function real_roots_of_quadratic(a::Number, b::Number, c::Number)\n",
    "    a==0 && throw(\"This is not a quadratic equation\")\n",
    "    #Start by initializing an empty array\n",
    "    roots::Array{Float64} = []\n",
    "\n",
    "    #Compute the discriminant \n",
    "    Δ = b^2 - 4a*c #\\Delta + [TAB]\n",
    "\n",
    "    #Based on the sign of the discriminant return 0, 1, or 2 roots.\n",
    "    if Δ < 0 \n",
    "        roots = []\n",
    "    elseif Δ == 0\n",
    "        roots = [-b/(2a)]\n",
    "    else\n",
    "        roots = [-b + √Δ, -b - √Δ] / (2a) #\\sqrt + [TAB]\n",
    "    end\n",
    "    return roots \n",
    "end\n",
    "\n",
    "#Attempting on -x²+5x-6=0\n",
    "real_roots_of_quadratic(0,5,-6)"
   ]
  },
  {
   "cell_type": "markdown",
   "metadata": {},
   "source": [
    "#### 2a.8:"
   ]
  },
  {
   "cell_type": "code",
   "execution_count": 10,
   "metadata": {},
   "outputs": [],
   "source": [
    "### Make this a markdown cell and answer 2a.8 here (in place of this comment)"
   ]
  },
  {
   "cell_type": "markdown",
   "metadata": {},
   "source": [
    "#### 2a.9:"
   ]
  },
  {
   "cell_type": "code",
   "execution_count": 11,
   "metadata": {},
   "outputs": [],
   "source": [
    "### Make this a markdown cell and answer 2a.9 here (in place of this comment)"
   ]
  },
  {
   "cell_type": "markdown",
   "metadata": {},
   "source": [
    "---"
   ]
  },
  {
   "cell_type": "markdown",
   "metadata": {},
   "source": [
    " ## 2b:"
   ]
  },
  {
   "cell_type": "code",
   "execution_count": 12,
   "metadata": {},
   "outputs": [
    {
     "name": "stdout",
     "output_type": "stream",
     "text": [
      "The equation 1x² + -5x + 6 has the real roots 3.0 and 2.0\n",
      "The equation 1x² + 2x + 3 has no real roots\n",
      "The equation 1x² + 7x + 0 has the real roots 0.0 and -7.0\n"
     ]
    }
   ],
   "source": [
    "function print_quadratic_roots(coefficients, roots)\n",
    "    print(\"The equation $(coefficients[1])x² + $(coefficients[2])x + $(coefficients[3]) \")\n",
    "    if length(roots) == 2\n",
    "        println(\"has the real roots $(roots[1]) and $(roots[2])\")\n",
    "    elseif length(roots) == 1\n",
    "        println(\"has a single real root $(roots[1])\")\n",
    "    elseif length(roots) == 0\n",
    "        println(\"has no real roots\")\n",
    "    else\n",
    "        throw(\"Invalid number of roots\")\n",
    "    end\n",
    "    \n",
    "end\n",
    "\n",
    "examples = [[1,-5,6], [1,2,3],[1,7,0]]\n",
    "\n",
    "for example in examples\n",
    "    roots = real_roots_of_quadratic(example[1], example[2], example[3])\n",
    "    print_quadratic_roots(example, roots)\n",
    "end\n",
    "\n"
   ]
  },
  {
   "cell_type": "markdown",
   "metadata": {},
   "source": [
    "#### 2b.1:"
   ]
  },
  {
   "cell_type": "code",
   "execution_count": 13,
   "metadata": {},
   "outputs": [
    {
     "name": "stdout",
     "output_type": "stream",
     "text": [
      "The equation 1x² + -5x + 6 has the real roots 3.0 and 2.0\n",
      "The equation 1x² + 2x + 3 has no real roots\n",
      "The equation 1x² + 7x + 0 has the real roots 0.0 and -7.0\n",
      "The equation 25x² + -19x + 102 has no real roots\n",
      "The equation -3x² + -7x + 1 has the real roots -2.468374945984442 and 0.135041612651109\n"
     ]
    }
   ],
   "source": [
    "examples = [[1,-5,6], [1,2,3],[1,7,0], [25, -19, 102], [-3, -7, 1]]\n",
    "\n",
    "for example in examples\n",
    "    roots = real_roots_of_quadratic(example[1], example[2], example[3])\n",
    "    print_quadratic_roots(example, roots)\n",
    "end"
   ]
  },
  {
   "cell_type": "markdown",
   "metadata": {},
   "source": [
    "#### 2b.2:"
   ]
  },
  {
   "cell_type": "code",
   "execution_count": 14,
   "metadata": {},
   "outputs": [
    {
     "name": "stdout",
     "output_type": "stream",
     "text": [
      "The equation 1x² + -5x + 6 has the real roots 3.0 and 2.0\n",
      "The equation 1x² + 2x + 3 has no real roots\n",
      "The equation 1x² + 7x + 0 has the real roots 0.0 and -7.0\n"
     ]
    }
   ],
   "source": [
    "function print_quadratic_roots(coefficients, roots)\n",
    "    print(\"The equation $(coefficients[1])x² + $(coefficients[2])x + $(coefficients[3]) \")\n",
    "    if length(roots) == 2\n",
    "        println(\"has the real roots $(roots[1]) and $(roots[2])\")\n",
    "    elseif length(roots) == 1\n",
    "        println(\"has a single real root $(roots[1])\")\n",
    "    elseif length(roots) == 0\n",
    "        println(\"has no real roots\")\n",
    "    else\n",
    "        throw(\"Invalid number of roots\")\n",
    "    end\n",
    "    \n",
    "end\n",
    "\n",
    "examples = [[1,-5,6], [1,2,3],[1,7,0]]\n",
    "\n",
    "for example in examples\n",
    "    roots = real_roots_of_quadratic(example[1], example[2], example[3])\n",
    "    print_quadratic_roots(example, roots)\n",
    "end"
   ]
  },
  {
   "cell_type": "markdown",
   "metadata": {},
   "source": [
    "#### 2b.3:"
   ]
  },
  {
   "cell_type": "code",
   "execution_count": 15,
   "metadata": {},
   "outputs": [
    {
     "name": "stdout",
     "output_type": "stream",
     "text": [
      "The equation x² - 5x + 6 has the real roots 3.0 and 2.0\n",
      "The equation -x² + 2x + 3 has the real roots -1.0 and 3.0\n",
      "The equation -5x² + 7x  has the real roots -0.0 and 1.4\n"
     ]
    }
   ],
   "source": [
    "function print_quadratic_roots(coefficients, roots)\n",
    "    str1 = coefficients[1]==-1 ? \"-x² \" : coefficients[1]==1 ? \"x² \" : \"$(coefficients[1])x² \"\n",
    "    str2 = coefficients[2]==-1 ? \"- x\" : coefficients[2]==1 ? \"+ x \" : coefficients[2]<0 ? \"- $(-coefficients[2])x \" : coefficients[2]==0 ? \"\" : \"+ $(coefficients[2])x \"\n",
    "    str3 = coefficients[3]<0 ? \"- $(-coefficients[3])\" : coefficients[3]==0 ? \"\" : \"+ $(coefficients[3])\"\n",
    "    print(\"The equation \",str1,str2,str3, \" \")\n",
    "    # print(\"The equation $(coefficients[1])x² + $(coefficients[2])x + $(coefficients[3]) \")\n",
    "    if length(roots) == 2\n",
    "        println(\"has the real roots $(roots[1]) and $(roots[2])\")\n",
    "    elseif length(roots) == 1\n",
    "        println(\"has a single real root $(roots[1])\")\n",
    "    elseif length(roots) == 0\n",
    "        println(\"has no real roots\")\n",
    "    else\n",
    "        throw(\"Invalid number of roots\")\n",
    "    end\n",
    "    \n",
    "end\n",
    "\n",
    "examples = [[1,-5,6], [-1,2,3],[-5,7,0]]\n",
    "\n",
    "for example in examples\n",
    "    roots = real_roots_of_quadratic(example[1], example[2], example[3])\n",
    "    print_quadratic_roots(example, roots)\n",
    "end"
   ]
  },
  {
   "cell_type": "markdown",
   "metadata": {},
   "source": [
    "## 2c:"
   ]
  },
  {
   "cell_type": "markdown",
   "metadata": {},
   "source": [
    "#### 2c.1:"
   ]
  },
  {
   "cell_type": "markdown",
   "metadata": {},
   "source": [
    "`rand(3)` generates 3 random numbers in $[0,1]$, `2000rand(3)` generates 3 random numbers in $[0,2000]$, and `2000rand(3) .-1000` generates 3 random numbers in $[-1000,1000]$. "
   ]
  },
  {
   "cell_type": "code",
   "execution_count": 16,
   "metadata": {},
   "outputs": [
    {
     "name": "stdout",
     "output_type": "stream",
     "text": [
      "Test passed\n"
     ]
    }
   ],
   "source": [
    "using Random\n",
    "\"\"\"\n",
    "This function generates `num_tests` random triples of coefficients and checks that the function `real_roots_of_quadratic()` does its job. The return value is `true` if the test passed, otherwise it is `false`.\n",
    "\"\"\"\n",
    "function test_real_roots_of_quadratic(;num_tests = 10000, seed=42)\n",
    "    Random.seed!(seed)\n",
    "    test_passed = true\n",
    "    for _ in 1:num_tests\n",
    "        a, b, c = 10rand(3) .- 5 #uniform values in the range [-5, 5]\n",
    "        roots = real_roots_of_quadratic(a,b,c)\n",
    "        for x in roots\n",
    "            err = a*x^2 + b*x + c \n",
    "            test_passed = (test_passed && isapprox(err, 0.0, atol = 1e-8)) \n",
    "        end\n",
    "    end\n",
    "    return test_passed\n",
    "end\n",
    "\n",
    "test_real_roots_of_quadratic() ? println(\"Test passed\") : println(\"Test failed\")"
   ]
  },
  {
   "cell_type": "markdown",
   "metadata": {},
   "source": [
    "#### 2c.2:"
   ]
  },
  {
   "cell_type": "code",
   "execution_count": 17,
   "metadata": {},
   "outputs": [
    {
     "name": "stdout",
     "output_type": "stream",
     "text": [
      "Test passed\n"
     ]
    }
   ],
   "source": [
    "using Random\n",
    "\"\"\"\n",
    "This function generates `num_tests` random triples of coefficients and checks that the function `real_roots_of_quadratic()` does its job. The return value is `true` if the test passed, otherwise it is `false`.\n",
    "\"\"\"\n",
    "function test_real_roots_of_quadratic(;num_tests = 10000, seed=42, coeff_min=-1000, coeff_max=1000)\n",
    "    Random.seed!(seed)\n",
    "    test_passed = true\n",
    "    for _ in 1:num_tests\n",
    "        a, b, c = (coeff_max-coeff_min)*rand(3) .+ coeff_min #uniform values in the range [coeff_min, coeff_max]\n",
    "        roots = real_roots_of_quadratic(a,b,c)\n",
    "        for x in roots\n",
    "            err = a*x^2 + b*x + c \n",
    "            test_passed = (test_passed && isapprox(err, 0.0, atol = 1e-8)) \n",
    "        end\n",
    "    end\n",
    "    return test_passed\n",
    "end\n",
    "\n",
    "test_real_roots_of_quadratic() ? println(\"Test passed\") : println(\"Test failed\")"
   ]
  },
  {
   "cell_type": "markdown",
   "metadata": {},
   "source": [
    "#### 2c.3:"
   ]
  },
  {
   "cell_type": "code",
   "execution_count": 18,
   "metadata": {},
   "outputs": [],
   "source": [
    "### Make this a markdown cell and answer 2c.3 here (in place of this comment)"
   ]
  },
  {
   "cell_type": "markdown",
   "metadata": {},
   "source": [
    "#### 2c.4:"
   ]
  },
  {
   "cell_type": "code",
   "execution_count": 19,
   "metadata": {},
   "outputs": [],
   "source": [
    "### Answer 2c.4 here (in place of this comment)"
   ]
  },
  {
   "cell_type": "markdown",
   "metadata": {},
   "source": [
    "#### 2c.5:"
   ]
  },
  {
   "cell_type": "code",
   "execution_count": 20,
   "metadata": {},
   "outputs": [],
   "source": [
    "### Answer 2c.5 here (in place of this comment)"
   ]
  },
  {
   "cell_type": "markdown",
   "metadata": {},
   "source": [
    "## 2d:"
   ]
  },
  {
   "cell_type": "code",
   "execution_count": 21,
   "metadata": {},
   "outputs": [
    {
     "data": {
      "text/plain": [
       "2-element Vector{ComplexF64}:\n",
       " -1.0 + 1.4142135623730951im\n",
       " -1.0 - 1.4142135623730951im"
      ]
     },
     "metadata": {},
     "output_type": "display_data"
    }
   ],
   "source": [
    "function roots_of_quadratic(a::Number, b::Number, c::Number)\n",
    "    roots::Array{ComplexF64} = []\n",
    "    Δ = b^2 - 4a*c\n",
    "    roots = (Δ == 0) ? roots = [-b/(2a)] : [-b + √Complex(Δ), -b - √Complex(Δ)] / (2a)\n",
    "    return roots \n",
    "end\n",
    "\n",
    "roots_of_quadratic(1,2,3)"
   ]
  },
  {
   "cell_type": "code",
   "execution_count": 22,
   "metadata": {},
   "outputs": [
    {
     "data": {
      "text/plain": [
       "2-element Vector{ComplexF64}:\n",
       " -1.0 + 1.4142135623730951im\n",
       " -1.0 - 1.4142135623730951im"
      ]
     },
     "metadata": {},
     "output_type": "display_data"
    }
   ],
   "source": [
    "function roots_of_quadratic(a::Number, b::Number, c::Number)\n",
    "    roots::Array{ComplexF64} = []\n",
    "    Δ = b^2 - 4a*c\n",
    "    if Δ < 0 \n",
    "        roots = [-b + √Complex(Δ), -b - √Complex(Δ)] / (2a)\n",
    "    elseif Δ == 0\n",
    "        roots = [-b/(2a)]\n",
    "    else\n",
    "        roots = [-b + √Δ, -b - √Δ] / (2a) \n",
    "    end\n",
    "    return roots \n",
    "end\n",
    "\n",
    "roots_of_quadratic(1,2,3)"
   ]
  },
  {
   "cell_type": "markdown",
   "metadata": {},
   "source": [
    "---\n",
    "\n",
    "*Use this area below as an experimental playground for the question. Feel free to leave some of the experimental code here with your submision. However, it will not be marked or reviewed. Make sure in your submission that if there is any experimental code here then running it does not interfere with running the actual solutions.*\n",
    "\n",
    "---"
   ]
  },
  {
   "cell_type": "code",
   "execution_count": 23,
   "metadata": {},
   "outputs": [],
   "source": []
  },
  {
   "cell_type": "code",
   "execution_count": 24,
   "metadata": {},
   "outputs": [],
   "source": []
  },
  {
   "cell_type": "code",
   "execution_count": 25,
   "metadata": {},
   "outputs": [],
   "source": []
  },
  {
   "cell_type": "markdown",
   "metadata": {},
   "source": [
    "# Solution to [Question 3](https://courses.smp.uq.edu.au/MATH2504/2024/assessment_html/bighw.html#q3)"
   ]
  },
  {
   "cell_type": "code",
   "execution_count": 26,
   "metadata": {},
   "outputs": [
    {
     "data": {
      "text/plain": [
       "0.697774657964008"
      ]
     },
     "metadata": {},
     "output_type": "display_data"
    }
   ],
   "source": [
    "amoretti(i=0; cut_off = 20) = i > cut_off ? 0 : i + 1 / amoretti(i+1; cut_off = cut_off)\n",
    "amoretti()"
   ]
  },
  {
   "cell_type": "markdown",
   "metadata": {},
   "source": [
    "#### 3a:"
   ]
  },
  {
   "cell_type": "code",
   "execution_count": 27,
   "metadata": {},
   "outputs": [
    {
     "name": "stdout",
     "output_type": "stream",
     "text": [
      "amoretti(; cut_off = 2) = 1.0\n",
      "amoretti(; cut_off = 3) = 0.6666666666666666\n",
      "amoretti(; cut_off = 4) = 0.7\n"
     ]
    },
    {
     "data": {
      "text/plain": [
       "0.7"
      ]
     },
     "metadata": {},
     "output_type": "display_data"
    }
   ],
   "source": [
    "@show amoretti(; cut_off=2)\n",
    "@show amoretti(; cut_off=3)\n",
    "@show amoretti(; cut_off=4)"
   ]
  },
  {
   "cell_type": "markdown",
   "metadata": {},
   "source": [
    "The coded function can be written as\n",
    "$$\n",
    "    a(i;c) =\n",
    "    \\begin{cases}\n",
    "         0 & i > c \\\\\n",
    "         i+\\frac1{a(i+1;c)} & \\text{otherwise}\n",
    "    \\end{cases}\n",
    "$$\n",
    "\n",
    "For example, consider when cutoff=3. \n",
    "$$\n",
    "    \\begin{align}\n",
    "        a(4;3) &= 0 \\\\\n",
    "        a(3;3) &= 3+\\frac1{a(4;3)} = 3+\\frac10 = \\infty \\\\\n",
    "        a(2;3) &= 2+\\frac1{a(3;3)} = 2+\\frac1\\infty=2 \\\\\n",
    "        a(1;3) &= 1+\\frac1{a(2;3)} = 1+\\frac12 = \\frac32 \\\\\n",
    "        a(0;3) &= 0+\\frac1{a(1;3)} = \\frac1{\\frac32} = \\frac23.\n",
    "    \\end{align}\n",
    "$$\n",
    "This uses the fact that, as far as Julia is concerned, $\\frac10=\\infty$ and $\\frac1\\infty=0$."
   ]
  },
  {
   "cell_type": "markdown",
   "metadata": {},
   "source": [
    "#### 3b:"
   ]
  },
  {
   "cell_type": "code",
   "execution_count": 28,
   "metadata": {},
   "outputs": [
    {
     "data": {
      "text/plain": [
       "0.697774657964008"
      ]
     },
     "metadata": {},
     "output_type": "display_data"
    }
   ],
   "source": [
    "amoretti()"
   ]
  },
  {
   "cell_type": "code",
   "execution_count": 29,
   "metadata": {},
   "outputs": [
    {
     "data": {
      "text/plain": [
       "0.697774657964008"
      ]
     },
     "metadata": {},
     "output_type": "display_data"
    }
   ],
   "source": [
    "cut_off=20 #same cutoff as above\n",
    "aval = 0 #a(cutoff+1; cutoff)\n",
    "for i in cut_off:-1:0 #This is the same iteration as seen above\n",
    "    aval = i + 1/aval\n",
    "end\n",
    "aval"
   ]
  },
  {
   "cell_type": "markdown",
   "metadata": {},
   "source": [
    "#### 3c:"
   ]
  },
  {
   "cell_type": "code",
   "execution_count": 30,
   "metadata": {},
   "outputs": [
    {
     "data": {
      "text/plain": [
       "0.6977746579640081"
      ]
     },
     "metadata": {},
     "output_type": "display_data"
    }
   ],
   "source": [
    "using SpecialFunctions\n",
    "besseli(1,2)/besseli(0,2)"
   ]
  },
  {
   "cell_type": "markdown",
   "metadata": {},
   "source": [
    "Yes it's the same"
   ]
  },
  {
   "cell_type": "markdown",
   "metadata": {},
   "source": [
    "#### 3d:"
   ]
  },
  {
   "cell_type": "code",
   "execution_count": 8,
   "metadata": {},
   "outputs": [
    {
     "data": {
      "text/plain": [
       "0.69777465796400798200679059255175260020536507117993920952170500168235366507831346950909080092627011025921962802394136031276"
      ]
     },
     "metadata": {},
     "output_type": "display_data"
    }
   ],
   "source": [
    "setprecision(BigFloat, 400)\n",
    "amoretti(i=big(0); cut_off = 20) = i > cut_off ? 0 : i + 1 / amoretti(i+1; cut_off = cut_off)\n",
    "amoretti()\n",
    "\n",
    "test = amoretti()"
   ]
  },
  {
   "cell_type": "code",
   "execution_count": 9,
   "metadata": {},
   "outputs": [],
   "source": [
    "givendigits = [6, 9, 7, 7, 7, 4, 6, 5, 7, 9, 6, 4, 0, 0, 7, 9, 8, 2, 0, 0, 6, 7, 9, 0, 5, 9, 2, 5, 5, 1, 7, 5, 2, 5, 9, 9, 4, 8, 6, 6, 5, 8, 2, 6, 2, 9, 9, 8, 0, 2, 1, 2, 3, 2, 3, 6, 8, 6, 3, 0, 0, 8, 2, 8, 1, 6, 5, 3, 0, 8, 5, 2, 7, 6, 4, 6, 4, 1, 1, 1, 2, 9, 9, 6, 9, 6, 5, 6, 5, 4, 1, 8, 2, 6, 7, 6, 5, 6, 8, 7, 2, 3, 9, 8, 2]\n",
    "mydigits = []\n",
    "for _ in 1:105\n",
    "    test *= 10\n",
    "    temp = floor(Int, test)\n",
    "    test -= temp\n",
    "    push!(mydigits, floor(Int, temp))\n",
    "end"
   ]
  },
  {
   "cell_type": "code",
   "execution_count": 12,
   "metadata": {},
   "outputs": [
    {
     "data": {
      "text/plain": [
       "34"
      ]
     },
     "metadata": {},
     "output_type": "display_data"
    }
   ],
   "source": [
    "findfirst(mydigits .!= givendigits)"
   ]
  },
  {
   "cell_type": "markdown",
   "metadata": {},
   "source": [
    "---\n",
    "\n",
    "*Use this area below as an experimental playground for the question. Feel free to leave some of the experimental code here with your submision. However, it will not be marked or reviewed. Make sure in your submission that if there is any experimental code here then running it does not interfere with running the actual solutions.*\n",
    "\n",
    "---"
   ]
  },
  {
   "cell_type": "code",
   "execution_count": 34,
   "metadata": {},
   "outputs": [],
   "source": []
  },
  {
   "cell_type": "code",
   "execution_count": 35,
   "metadata": {},
   "outputs": [],
   "source": []
  },
  {
   "cell_type": "code",
   "execution_count": 36,
   "metadata": {},
   "outputs": [],
   "source": []
  },
  {
   "cell_type": "markdown",
   "metadata": {},
   "source": [
    "# Solution to [Question 4](https://courses.smp.uq.edu.au/MATH2504/2024/assessment_html/bighw.html#q4)"
   ]
  },
  {
   "cell_type": "code",
   "execution_count": 1,
   "metadata": {},
   "outputs": [],
   "source": [
    "random_binary_string(n = 12) = *([rand(['0','1']) for _ in 1:n]...)\n",
    "random_hex_string(n=3) = *([rand(union('0':'9','A':'F')) for _ in 1:n]...);"
   ]
  },
  {
   "cell_type": "markdown",
   "metadata": {},
   "source": [
    "## 4a:"
   ]
  },
  {
   "cell_type": "markdown",
   "metadata": {},
   "source": [
    "Considering `random_binary_string` first: `rand(['0','1'])` draws either a 0 or 1 with equal probability. `[foo(...) for _ in 1:n]` repeats function `foo(...)` n times and saves each output into a vector. Therefore `[rand(['0','1']) for _ in 1:n]` generates a vector of n values, randomly selected as 0 or 1. The operator `*` multiplies all these characters together, merging them into a single string. The splat operator `...` is used to convert the vector input into n individual function arguments. \n",
    "\n",
    "`random_hex_string` is similar but the sampling range is chosen from 0-9 and A-F, generated as the set `union('0':'9','A':'F')`, see below."
   ]
  },
  {
   "cell_type": "code",
   "execution_count": 2,
   "metadata": {},
   "outputs": [
    {
     "data": {
      "text/plain": [
       "16-element Vector{Char}:\n",
       " '0': ASCII/Unicode U+0030 (category Nd: Number, decimal digit)\n",
       " '1': ASCII/Unicode U+0031 (category Nd: Number, decimal digit)\n",
       " '2': ASCII/Unicode U+0032 (category Nd: Number, decimal digit)\n",
       " '3': ASCII/Unicode U+0033 (category Nd: Number, decimal digit)\n",
       " '4': ASCII/Unicode U+0034 (category Nd: Number, decimal digit)\n",
       " '5': ASCII/Unicode U+0035 (category Nd: Number, decimal digit)\n",
       " '6': ASCII/Unicode U+0036 (category Nd: Number, decimal digit)\n",
       " '7': ASCII/Unicode U+0037 (category Nd: Number, decimal digit)\n",
       " '8': ASCII/Unicode U+0038 (category Nd: Number, decimal digit)\n",
       " '9': ASCII/Unicode U+0039 (category Nd: Number, decimal digit)\n",
       " 'A': ASCII/Unicode U+0041 (category Lu: Letter, uppercase)\n",
       " 'B': ASCII/Unicode U+0042 (category Lu: Letter, uppercase)\n",
       " 'C': ASCII/Unicode U+0043 (category Lu: Letter, uppercase)\n",
       " 'D': ASCII/Unicode U+0044 (category Lu: Letter, uppercase)\n",
       " 'E': ASCII/Unicode U+0045 (category Lu: Letter, uppercase)\n",
       " 'F': ASCII/Unicode U+0046 (category Lu: Letter, uppercase)"
      ]
     },
     "metadata": {},
     "output_type": "display_data"
    }
   ],
   "source": [
    "union('0':'9','A':'F')"
   ]
  },
  {
   "cell_type": "markdown",
   "metadata": {},
   "source": [
    "## 4b:"
   ]
  },
  {
   "cell_type": "code",
   "execution_count": 3,
   "metadata": {},
   "outputs": [],
   "source": [
    "using Random\n",
    "Random.seed!(1)\n",
    "r_bin_strs = [random_binary_string() for _ in 1:10^3]\n",
    "r_hex_strs = [random_hex_string() for _ in 1:10^3];"
   ]
  },
  {
   "cell_type": "code",
   "execution_count": 4,
   "metadata": {},
   "outputs": [
    {
     "name": "stdout",
     "output_type": "stream",
     "text": [
      "binarysum = sum(parse.(Int, r_bin_strs, base = 2)) = 2035713\n",
      "binaryerror = abs(binarysum - 2048000) / 2048000 = 0.00599951171875\n"
     ]
    },
    {
     "data": {
      "text/plain": [
       "0.00599951171875"
      ]
     },
     "metadata": {},
     "output_type": "display_data"
    }
   ],
   "source": [
    "@show binarysum = sum(parse.(Int, r_bin_strs, base=2))\n",
    "@show binaryerror = abs(binarysum-2048000)/2048000"
   ]
  },
  {
   "cell_type": "markdown",
   "metadata": {},
   "source": [
    "A 12 digit binary number is any integer from $0$ to $2^{12}-1=4095$, so the average will be $\\approx2048$. We therefore expect the sum of 1000 such random numbers to be $~2048000$"
   ]
  },
  {
   "cell_type": "code",
   "execution_count": null,
   "metadata": {},
   "outputs": [
    {
     "name": "stdout",
     "output_type": "stream",
     "text": [
      "hexsum = sum(parse.(Int, r_hex_strs, base = 16)) = 2111429\n",
      "hexerror = abs(hexsum - 2048000) / 2048000 = 0.03097119140625\n"
     ]
    },
    {
     "data": {
      "text/plain": [
       "0.03097119140625"
      ]
     },
     "metadata": {},
     "output_type": "display_data"
    }
   ],
   "source": [
    "@show hexsum = sum(parse.(Int, r_hex_strs, base=16))\n",
    "@show hexerror = abs(hexsum-2048000)/2048000"
   ]
  },
  {
   "cell_type": "markdown",
   "metadata": {},
   "source": [
    "A 3 digit hex number is any integer from $0$ to $16^{3}-1=4095$, so the average will be $\\approx2048$. We therefore expect the sum of 1000 such random numbers to be $~2048000$"
   ]
  },
  {
   "cell_type": "markdown",
   "metadata": {},
   "source": []
  },
  {
   "cell_type": "markdown",
   "metadata": {},
   "source": [
    "## 4c:"
   ]
  },
  {
   "cell_type": "code",
   "execution_count": 32,
   "metadata": {},
   "outputs": [
    {
     "data": {
      "text/plain": [
       "true"
      ]
     },
     "metadata": {},
     "output_type": "display_data"
    }
   ],
   "source": [
    "function parsebinary(binstr::String)\n",
    "    val = 0\n",
    "    for i in 1:length(binstr)\n",
    "        if binstr[length(binstr)+1-i] == '1'\n",
    "            val += 2^(i-1)\n",
    "        end\n",
    "    end\n",
    "    return val\n",
    "end\n",
    "parsebinary.(r_bin_strs) == parse.(Int, r_bin_strs, base=2)"
   ]
  },
  {
   "cell_type": "code",
   "execution_count": 33,
   "metadata": {},
   "outputs": [
    {
     "data": {
      "text/plain": [
       "2035713"
      ]
     },
     "metadata": {},
     "output_type": "display_data"
    }
   ],
   "source": [
    "sum(parsebinary.(r_bin_strs))"
   ]
  },
  {
   "cell_type": "code",
   "execution_count": 31,
   "metadata": {},
   "outputs": [
    {
     "data": {
      "text/plain": [
       "true"
      ]
     },
     "metadata": {},
     "output_type": "display_data"
    }
   ],
   "source": [
    "function parsehex(hexstr::String)\n",
    "    val = 0\n",
    "    for i in 1:length(hexstr)\n",
    "        x = hexstr[length(hexstr)+1-i]\n",
    "        if x ∈ '0' : '9'\n",
    "            val += (Int(x) - Int('0'))*16^(i-1)\n",
    "        elseif x ∈ 'A' : 'F'\n",
    "            val += (Int(x) - Int('A') + 10)*16^(i-1)\n",
    "        end\n",
    "    end\n",
    "    return val\n",
    "end\n",
    "parsehex.(r_hex_strs) == parse.(Int, r_hex_strs, base=16)"
   ]
  },
  {
   "cell_type": "code",
   "execution_count": 34,
   "metadata": {},
   "outputs": [
    {
     "data": {
      "text/plain": [
       "2111429"
      ]
     },
     "metadata": {},
     "output_type": "display_data"
    }
   ],
   "source": [
    "sum(parsehex.(r_hex_strs))"
   ]
  },
  {
   "cell_type": "markdown",
   "metadata": {},
   "source": [
    "---\n",
    "\n",
    "*Use this area below as an experimental playground for the question. Feel free to leave some of the experimental code here with your submision. However, it will not be marked or reviewed. Make sure in your submission that if there is any experimental code here then running it does not interfere with running the actual solutions.*\n",
    "\n",
    "---"
   ]
  },
  {
   "cell_type": "code",
   "execution_count": 46,
   "metadata": {},
   "outputs": [],
   "source": []
  },
  {
   "cell_type": "code",
   "execution_count": 47,
   "metadata": {},
   "outputs": [],
   "source": []
  },
  {
   "cell_type": "code",
   "execution_count": 48,
   "metadata": {},
   "outputs": [],
   "source": []
  }
 ],
 "metadata": {
  "kernelspec": {
   "display_name": "Julia 1.11.6",
   "language": "julia",
   "name": "julia-1.11"
  },
  "language_info": {
   "file_extension": ".jl",
   "mimetype": "application/julia",
   "name": "julia",
   "version": "1.11.6"
  }
 },
 "nbformat": 4,
 "nbformat_minor": 4
}
